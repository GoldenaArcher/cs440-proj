{
 "cells": [
  {
   "cell_type": "code",
   "execution_count": 2,
   "id": "35548c74",
   "metadata": {},
   "outputs": [
    {
     "name": "stdout",
     "output_type": "stream",
     "text": [
      "The autoreload extension is already loaded. To reload it, use:\n",
      "  %reload_ext autoreload\n",
      "System version: 3.7.11 (default, Jul 27 2021, 09:42:29) [MSC v.1916 64 bit (AMD64)]\n",
      "Pandas version: 1.3.4\n"
     ]
    }
   ],
   "source": [
    "%load_ext autoreload\n",
    "%autoreload 2\n",
    "\n",
    "import logging\n",
    "import numpy as np\n",
    "import pandas as pd\n",
    "import scrapbook as sb\n",
    "from sklearn.preprocessing import minmax_scale\n",
    "\n",
    "from recommenders.utils.python_utils import binarize\n",
    "from recommenders.utils.timer import Timer\n",
    "from recommenders.datasets import movielens\n",
    "from recommenders.datasets.python_splitters import python_stratified_split\n",
    "from recommenders.evaluation.python_evaluation import (\n",
    "    map_at_k,\n",
    "    ndcg_at_k,\n",
    "    precision_at_k,\n",
    "    recall_at_k,\n",
    "    rmse,\n",
    "    mae,\n",
    "    logloss,\n",
    "    rsquared,\n",
    "    exp_var\n",
    ")\n",
    "from recommenders.models.sar import SAR\n",
    "import sys\n",
    "\n",
    "print(\"System version: {}\".format(sys.version))\n",
    "print(\"Pandas version: {}\".format(pd.__version__))"
   ]
  },
  {
   "cell_type": "code",
   "execution_count": 3,
   "id": "43645892",
   "metadata": {},
   "outputs": [],
   "source": [
    "# top k items to recommend\n",
    "TOP_K = 10\n",
    "\n",
    "# Select MovieLens data size: 100k, 1m, 10m, or 20m\n",
    "AMAZON_DATA_SIZE = '100k'"
   ]
  },
  {
   "cell_type": "code",
   "execution_count": 4,
   "id": "92b55dd9",
   "metadata": {},
   "outputs": [
    {
     "data": {
      "text/html": [
       "<div>\n",
       "<style scoped>\n",
       "    .dataframe tbody tr th:only-of-type {\n",
       "        vertical-align: middle;\n",
       "    }\n",
       "\n",
       "    .dataframe tbody tr th {\n",
       "        vertical-align: top;\n",
       "    }\n",
       "\n",
       "    .dataframe thead th {\n",
       "        text-align: right;\n",
       "    }\n",
       "</style>\n",
       "<table border=\"1\" class=\"dataframe\">\n",
       "  <thead>\n",
       "    <tr style=\"text-align: right;\">\n",
       "      <th></th>\n",
       "      <th>userID</th>\n",
       "      <th>itemID</th>\n",
       "      <th>rating</th>\n",
       "      <th>timestamp</th>\n",
       "    </tr>\n",
       "  </thead>\n",
       "  <tbody>\n",
       "    <tr>\n",
       "      <th>0</th>\n",
       "      <td>A1YS9MDZP93857</td>\n",
       "      <td>0006428320</td>\n",
       "      <td>3.0</td>\n",
       "      <td>1394496000</td>\n",
       "    </tr>\n",
       "    <tr>\n",
       "      <th>1</th>\n",
       "      <td>A3TS466QBAWB9D</td>\n",
       "      <td>0014072149</td>\n",
       "      <td>5.0</td>\n",
       "      <td>1370476800</td>\n",
       "    </tr>\n",
       "    <tr>\n",
       "      <th>2</th>\n",
       "      <td>A3BUDYITWUSIS7</td>\n",
       "      <td>0041291905</td>\n",
       "      <td>5.0</td>\n",
       "      <td>1381708800</td>\n",
       "    </tr>\n",
       "    <tr>\n",
       "      <th>3</th>\n",
       "      <td>A19K10Z0D2NTZK</td>\n",
       "      <td>0041913574</td>\n",
       "      <td>5.0</td>\n",
       "      <td>1285200000</td>\n",
       "    </tr>\n",
       "    <tr>\n",
       "      <th>4</th>\n",
       "      <td>A14X336IB4JD89</td>\n",
       "      <td>0201891859</td>\n",
       "      <td>1.0</td>\n",
       "      <td>1350432000</td>\n",
       "    </tr>\n",
       "  </tbody>\n",
       "</table>\n",
       "</div>"
      ],
      "text/plain": [
       "           userID      itemID  rating   timestamp\n",
       "0  A1YS9MDZP93857  0006428320     3.0  1394496000\n",
       "1  A3TS466QBAWB9D  0014072149     5.0  1370476800\n",
       "2  A3BUDYITWUSIS7  0041291905     5.0  1381708800\n",
       "3  A19K10Z0D2NTZK  0041913574     5.0  1285200000\n",
       "4  A14X336IB4JD89  0201891859     1.0  1350432000"
      ]
     },
     "execution_count": 4,
     "metadata": {},
     "output_type": "execute_result"
    }
   ],
   "source": [
    "df = pd.read_csv('ratings_Digital_Music_ordered.csv')\n",
    "\n",
    "df['rating'] = df['rating'].astype(np.float32)\n",
    "\n",
    "df.head()"
   ]
  },
  {
   "cell_type": "code",
   "execution_count": 9,
   "id": "aae5f946",
   "metadata": {},
   "outputs": [],
   "source": [
    "train, test = python_stratified_split(df, ratio=0.51, col_user='userID', col_item='itemID', seed=42)"
   ]
  },
  {
   "cell_type": "code",
   "execution_count": 12,
   "id": "06264405",
   "metadata": {},
   "outputs": [
    {
     "name": "stdout",
     "output_type": "stream",
     "text": [
      "\n",
      "Train:\n",
      "Total Ratings: 988\n",
      "Unique Users: 988\n",
      "Unique Items: 58\n",
      "\n",
      "Test:\n",
      "Total Ratings: 12\n",
      "Unique Users: 12\n",
      "Unique Items: 4\n",
      "\n"
     ]
    }
   ],
   "source": [
    "print(\"\"\"\n",
    "Train:\n",
    "Total Ratings: {train_total}\n",
    "Unique Users: {train_users}\n",
    "Unique Items: {train_items}\n",
    "\n",
    "Test:\n",
    "Total Ratings: {test_total}\n",
    "Unique Users: {test_users}\n",
    "Unique Items: {test_items}\n",
    "\"\"\".format(\n",
    "    train_total=len(train),\n",
    "    train_users=len(train['userID'].unique()),\n",
    "    train_items=len(train['itemID'].unique()),\n",
    "    test_total=len(test),\n",
    "    test_users=len(test['userID'].unique()),\n",
    "    test_items=len(test['itemID'].unique()),\n",
    "))"
   ]
  },
  {
   "cell_type": "code",
   "execution_count": 13,
   "id": "2cd0de2b",
   "metadata": {},
   "outputs": [],
   "source": [
    "logging.basicConfig(level=logging.DEBUG, \n",
    "                    format='%(asctime)s %(levelname)-8s %(message)s')\n",
    "\n",
    "model = SAR(\n",
    "    col_user=\"userID\",\n",
    "    col_item=\"itemID\",\n",
    "    col_rating=\"rating\",\n",
    "    col_timestamp=\"timestamp\",\n",
    "    similarity_type=\"jaccard\", \n",
    "    time_decay_coefficient=30, \n",
    "    timedecay_formula=True,\n",
    "    normalize=True\n",
    ")"
   ]
  },
  {
   "cell_type": "code",
   "execution_count": 14,
   "id": "562d9931",
   "metadata": {},
   "outputs": [
    {
     "name": "stderr",
     "output_type": "stream",
     "text": [
      "2021-11-28 00:04:48,601 INFO     Collecting user affinity matrix\n",
      "2021-11-28 00:04:48,608 INFO     Calculating time-decayed affinities\n",
      "2021-11-28 00:04:48,633 INFO     Creating index columns\n",
      "2021-11-28 00:04:48,644 INFO     Calculating normalization factors\n",
      "2021-11-28 00:04:48,670 INFO     Building user affinity sparse matrix\n",
      "2021-11-28 00:04:48,674 INFO     Calculating item co-occurrence\n",
      "2021-11-28 00:04:48,685 INFO     Calculating item similarity\n",
      "2021-11-28 00:04:48,687 INFO     Using jaccard based similarity\n",
      "2021-11-28 00:04:48,691 INFO     Done training\n"
     ]
    },
    {
     "name": "stdout",
     "output_type": "stream",
     "text": [
      "Took 0.09604339999998501 seconds for training.\n"
     ]
    }
   ],
   "source": [
    "with Timer() as train_time:\n",
    "    model.fit(train)\n",
    "\n",
    "print(\"Took {} seconds for training.\".format(train_time.interval))"
   ]
  },
  {
   "cell_type": "code",
   "execution_count": 15,
   "id": "de7a6408",
   "metadata": {},
   "outputs": [
    {
     "name": "stderr",
     "output_type": "stream",
     "text": [
      "2021-11-28 00:04:55,800 INFO     Calculating recommendation scores\n",
      "2021-11-28 00:04:55,806 INFO     Removing seen items\n"
     ]
    },
    {
     "name": "stdout",
     "output_type": "stream",
     "text": [
      "Took 0.026640900000018064 seconds for prediction.\n"
     ]
    }
   ],
   "source": [
    "with Timer() as test_time:\n",
    "    top_k = model.recommend_k_items(test, remove_seen=True)\n",
    "\n",
    "print(\"Took {} seconds for prediction.\".format(test_time.interval))"
   ]
  },
  {
   "cell_type": "code",
   "execution_count": 16,
   "id": "276b7c0e",
   "metadata": {},
   "outputs": [
    {
     "data": {
      "text/html": [
       "<div>\n",
       "<style scoped>\n",
       "    .dataframe tbody tr th:only-of-type {\n",
       "        vertical-align: middle;\n",
       "    }\n",
       "\n",
       "    .dataframe tbody tr th {\n",
       "        vertical-align: top;\n",
       "    }\n",
       "\n",
       "    .dataframe thead th {\n",
       "        text-align: right;\n",
       "    }\n",
       "</style>\n",
       "<table border=\"1\" class=\"dataframe\">\n",
       "  <thead>\n",
       "    <tr style=\"text-align: right;\">\n",
       "      <th></th>\n",
       "      <th>userID</th>\n",
       "      <th>itemID</th>\n",
       "      <th>prediction</th>\n",
       "    </tr>\n",
       "  </thead>\n",
       "  <tbody>\n",
       "    <tr>\n",
       "      <th>0</th>\n",
       "      <td>A15STV0U0MEAS0</td>\n",
       "      <td>0739040375</td>\n",
       "      <td>1.605736e-56</td>\n",
       "    </tr>\n",
       "    <tr>\n",
       "      <th>1</th>\n",
       "      <td>A15STV0U0MEAS0</td>\n",
       "      <td>0739045067</td>\n",
       "      <td>1.605736e-56</td>\n",
       "    </tr>\n",
       "    <tr>\n",
       "      <th>2</th>\n",
       "      <td>A15STV0U0MEAS0</td>\n",
       "      <td>0739064525</td>\n",
       "      <td>1.605736e-56</td>\n",
       "    </tr>\n",
       "    <tr>\n",
       "      <th>3</th>\n",
       "      <td>A15STV0U0MEAS0</td>\n",
       "      <td>0767851013</td>\n",
       "      <td>1.605736e-56</td>\n",
       "    </tr>\n",
       "    <tr>\n",
       "      <th>4</th>\n",
       "      <td>A15STV0U0MEAS0</td>\n",
       "      <td>0634061801</td>\n",
       "      <td>1.605736e-56</td>\n",
       "    </tr>\n",
       "  </tbody>\n",
       "</table>\n",
       "</div>"
      ],
      "text/plain": [
       "           userID      itemID    prediction\n",
       "0  A15STV0U0MEAS0  0739040375  1.605736e-56\n",
       "1  A15STV0U0MEAS0  0739045067  1.605736e-56\n",
       "2  A15STV0U0MEAS0  0739064525  1.605736e-56\n",
       "3  A15STV0U0MEAS0  0767851013  1.605736e-56\n",
       "4  A15STV0U0MEAS0  0634061801  1.605736e-56"
      ]
     },
     "execution_count": 16,
     "metadata": {},
     "output_type": "execute_result"
    }
   ],
   "source": [
    "top_k.head()"
   ]
  },
  {
   "cell_type": "code",
   "execution_count": 17,
   "id": "7d7d61cc",
   "metadata": {},
   "outputs": [],
   "source": [
    "eval_map = map_at_k(test, top_k, col_user='userID', col_item='itemID', col_rating='rating', k=TOP_K)"
   ]
  },
  {
   "cell_type": "code",
   "execution_count": 18,
   "id": "a7becade",
   "metadata": {},
   "outputs": [],
   "source": [
    "eval_ndcg = ndcg_at_k(test, top_k, col_user='userID', col_item='itemID', col_rating='rating', k=TOP_K)"
   ]
  },
  {
   "cell_type": "code",
   "execution_count": 19,
   "id": "14208d3d",
   "metadata": {},
   "outputs": [],
   "source": [
    "eval_precision = precision_at_k(test, top_k, col_user='userID', col_item='itemID', col_rating='rating', k=TOP_K)"
   ]
  },
  {
   "cell_type": "code",
   "execution_count": 20,
   "id": "b3470977",
   "metadata": {},
   "outputs": [],
   "source": [
    "eval_recall = recall_at_k(test, top_k, col_user='userID', col_item='itemID', col_rating='rating', k=TOP_K)"
   ]
  },
  {
   "cell_type": "code",
   "execution_count": 21,
   "id": "29ff3ce0",
   "metadata": {},
   "outputs": [],
   "source": [
    "eval_rmse = rmse(test, top_k, col_user='userID', col_item='itemID', col_rating='rating')"
   ]
  },
  {
   "cell_type": "code",
   "execution_count": 22,
   "id": "bb74d71a",
   "metadata": {},
   "outputs": [],
   "source": [
    "eval_mae = mae(test, top_k, col_user='userID', col_item='itemID', col_rating='rating')"
   ]
  },
  {
   "cell_type": "code",
   "execution_count": 23,
   "id": "5d9ff4c0",
   "metadata": {},
   "outputs": [],
   "source": [
    "eval_rsquared = rsquared(test, top_k, col_user='userID', col_item='itemID', col_rating='rating')"
   ]
  },
  {
   "cell_type": "code",
   "execution_count": 24,
   "id": "c3e06a05",
   "metadata": {},
   "outputs": [],
   "source": [
    "eval_exp_var = exp_var(test, top_k, col_user='userID', col_item='itemID', col_rating='rating')"
   ]
  },
  {
   "cell_type": "code",
   "execution_count": 28,
   "id": "bb547b43",
   "metadata": {},
   "outputs": [
    {
     "name": "stdout",
     "output_type": "stream",
     "text": [
      "Model:\t\n",
      "Top K:\t10\n",
      "MAP:\t0.104167\n",
      "NDCG:\t0.119223\n",
      "Precision@K:\t0.016667\n",
      "Recall@K:\t0.166667\n",
      "RMSE:\t4.123106\n",
      "MAE:\t4.000000\n",
      "R2:\t-16.000000\n",
      "Exp var:\t0.000000\n"
     ]
    }
   ],
   "source": [
    "print(\"Model:\\t\",\n",
    "      \"Top K:\\t%d\" % TOP_K,\n",
    "      \"MAP:\\t%f\" % eval_map,\n",
    "      \"NDCG:\\t%f\" % eval_ndcg,\n",
    "      \"Precision@K:\\t%f\" % eval_precision,\n",
    "      \"Recall@K:\\t%f\" % eval_recall,\n",
    "      \"RMSE:\\t%f\" % eval_rmse,\n",
    "      \"MAE:\\t%f\" % eval_mae,\n",
    "      \"R2:\\t%f\" % eval_rsquared,\n",
    "      \"Exp var:\\t%f\" % eval_exp_var,\n",
    "#       \"Logloss:\\t%f\" % eval_logloss,\n",
    "      sep='\\n')"
   ]
  }
 ],
 "metadata": {
  "kernelspec": {
   "display_name": "Python 3 (ipykernel)",
   "language": "python",
   "name": "python3"
  },
  "language_info": {
   "codemirror_mode": {
    "name": "ipython",
    "version": 3
   },
   "file_extension": ".py",
   "mimetype": "text/x-python",
   "name": "python",
   "nbconvert_exporter": "python",
   "pygments_lexer": "ipython3",
   "version": "3.7.11"
  }
 },
 "nbformat": 4,
 "nbformat_minor": 5
}
