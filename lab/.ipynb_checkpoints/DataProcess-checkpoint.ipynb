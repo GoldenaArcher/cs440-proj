{
 "cells": [
  {
   "cell_type": "code",
   "execution_count": 1,
   "id": "45741fd1",
   "metadata": {},
   "outputs": [],
   "source": [
    "import pandas as pd"
   ]
  },
  {
   "cell_type": "code",
   "execution_count": 24,
   "id": "e5d974d3",
   "metadata": {},
   "outputs": [],
   "source": [
    "data_music = pd.read_csv('ratings_Digital_Music.csv', header=None)\n",
    "data_music.columns = [\"userID\", \"itemID\", \"rating\", 'timestamp']"
   ]
  },
  {
   "cell_type": "code",
   "execution_count": 25,
   "id": "d5e0cc94",
   "metadata": {},
   "outputs": [
    {
     "name": "stdout",
     "output_type": "stream",
     "text": [
      "           userID      itemID  rating   timestamp\n",
      "0  A2EFCYXHNK06IS  5555991584     5.0   978480000\n",
      "1  A1WR23ER5HMAA9  5555991584     5.0   953424000\n",
      "2  A2IR4Q0GPAFJKW  5555991584     4.0  1393545600\n",
      "3  A2V0KUVAB9HSYO  5555991584     4.0   966124800\n",
      "4  A1J0GL9HCA7ELW  5555991584     5.0  1007683200\n"
     ]
    }
   ],
   "source": [
    "print(data_music.head())"
   ]
  },
  {
   "cell_type": "code",
   "execution_count": 27,
   "id": "480a3b62",
   "metadata": {},
   "outputs": [],
   "source": [
    "data_music_ordered = data.iloc[:1000,:]\n",
    "data_music_ordered.to_csv(r'ratings_Digital_Music_ordered.csv', index = None, header=True)"
   ]
  }
 ],
 "metadata": {
  "kernelspec": {
   "display_name": "Python 3 (ipykernel)",
   "language": "python",
   "name": "python3"
  },
  "language_info": {
   "codemirror_mode": {
    "name": "ipython",
    "version": 3
   },
   "file_extension": ".py",
   "mimetype": "text/x-python",
   "name": "python",
   "nbconvert_exporter": "python",
   "pygments_lexer": "ipython3",
   "version": "3.7.11"
  }
 },
 "nbformat": 4,
 "nbformat_minor": 5
}
