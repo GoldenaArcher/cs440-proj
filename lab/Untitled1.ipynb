{
 "cells": [
  {
   "cell_type": "code",
   "execution_count": 1,
   "id": "45741fd1",
   "metadata": {},
   "outputs": [],
   "source": [
    "import pandas as pd"
   ]
  },
  {
   "cell_type": "code",
   "execution_count": 18,
   "id": "1409ca84",
   "metadata": {},
   "outputs": [],
   "source": [
    "data = pd.read_csv('ratings_Musical_Instruments.csv', header=None)\n",
    "data.columns = [\"userID\", \"itemID\", \"rating\", 'timestamp']"
   ]
  },
  {
   "cell_type": "code",
   "execution_count": 20,
   "id": "791522e1",
   "metadata": {},
   "outputs": [
    {
     "name": "stdout",
     "output_type": "stream",
     "text": [
      "           userID      itemID  rating   timestamp\n",
      "0  A1YS9MDZP93857  0006428320     3.0  1394496000\n",
      "1  A3TS466QBAWB9D  0014072149     5.0  1370476800\n",
      "2  A3BUDYITWUSIS7  0041291905     5.0  1381708800\n",
      "3  A19K10Z0D2NTZK  0041913574     5.0  1285200000\n",
      "4  A14X336IB4JD89  0201891859     1.0  1350432000\n"
     ]
    }
   ],
   "source": [
    "print(data.head())"
   ]
  },
  {
   "cell_type": "code",
   "execution_count": 6,
   "id": "fe5189c1",
   "metadata": {},
   "outputs": [],
   "source": [
    "data1000 = data.sample(n = 1000)\n",
    "data1000.to_csv(r'ratings_Musical_Instruments_1000.csv', index = None, header=True)"
   ]
  },
  {
   "cell_type": "code",
   "execution_count": 22,
   "id": "d6cbefa9",
   "metadata": {},
   "outputs": [],
   "source": [
    "data1000_ordered = data.iloc[:1000,:]\n",
    "data1000_ordered.to_csv(r'ratings_Musical_Instruments_1000_ordered.csv', index = None, header=True)"
   ]
  },
  {
   "cell_type": "code",
   "execution_count": 9,
   "id": "c920a794",
   "metadata": {},
   "outputs": [],
   "source": [
    "data2000 = data.sample(n = 2000)\n",
    "data2000.to_csv(r'ratings_Musical_Instruments_2000.csv', index = None, header=True)"
   ]
  }
 ],
 "metadata": {
  "kernelspec": {
   "display_name": "Python 3 (ipykernel)",
   "language": "python",
   "name": "python3"
  },
  "language_info": {
   "codemirror_mode": {
    "name": "ipython",
    "version": 3
   },
   "file_extension": ".py",
   "mimetype": "text/x-python",
   "name": "python",
   "nbconvert_exporter": "python",
   "pygments_lexer": "ipython3",
   "version": "3.7.11"
  }
 },
 "nbformat": 4,
 "nbformat_minor": 5
}
